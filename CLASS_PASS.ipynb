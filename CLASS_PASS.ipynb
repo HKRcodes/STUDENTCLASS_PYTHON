{
  "nbformat": 4,
  "nbformat_minor": 0,
  "metadata": {
    "colab": {
      "name": "Untitled2.ipynb",
      "provenance": [],
      "authorship_tag": "ABX9TyORcaQo7gD+ciQCFhaqtD13",
      "include_colab_link": true
    },
    "kernelspec": {
      "name": "python3",
      "display_name": "Python 3"
    },
    "language_info": {
      "name": "python"
    }
  },
  "cells": [
    {
      "cell_type": "markdown",
      "metadata": {
        "id": "view-in-github",
        "colab_type": "text"
      },
      "source": [
        "<a href=\"https://colab.research.google.com/github/HKRcodes/STUDENTCLASS_PYTHON/blob/main/CLASS_PASS.ipynb\" target=\"_parent\"><img src=\"https://colab.research.google.com/assets/colab-badge.svg\" alt=\"Open In Colab\"/></a>"
      ]
    },
    {
      "cell_type": "code",
      "execution_count": 20,
      "metadata": {
        "colab": {
          "base_uri": "https://localhost:8080/"
        },
        "id": "sQinJwp6fBhk",
        "outputId": "712febc4-27b2-476a-cc3b-0e2f7d41ab6d"
      },
      "outputs": [
        {
          "output_type": "stream",
          "name": "stdout",
          "text": [
            "student name :  hari \n",
            "Rollno :  365\n"
          ]
        }
      ],
      "source": [
        "class student:\n",
        "  def __init__(self,name,rollno):\n",
        "    self.name= name\n",
        "    self.rollno= rollno\n",
        "  def display(self):\n",
        "    print(\"student name : \",self.name,\"\\nRollno : \",self.rollno)\n",
        "\n",
        "class leader(student):\n",
        "  pass \n",
        "    \n",
        "student1=leader(\"hari\",365)\n",
        "student1.display()"
      ]
    }
  ]
}