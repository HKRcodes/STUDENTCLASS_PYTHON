{
  "nbformat": 4,
  "nbformat_minor": 0,
  "metadata": {
    "colab": {
      "name": "Untitled2.ipynb",
      "provenance": [],
      "authorship_tag": "ABX9TyPoI3WsWXbR1EnJImwr+Fik",
      "include_colab_link": true
    },
    "kernelspec": {
      "name": "python3",
      "display_name": "Python 3"
    },
    "language_info": {
      "name": "python"
    }
  },
  "cells": [
    {
      "cell_type": "markdown",
      "metadata": {
        "id": "view-in-github",
        "colab_type": "text"
      },
      "source": [
        "<a href=\"https://colab.research.google.com/github/HKRcodes/STUDENTCLASS_PYTHON/blob/main/INHERITANCE_SUPER.ipynb\" target=\"_parent\"><img src=\"https://colab.research.google.com/assets/colab-badge.svg\" alt=\"Open In Colab\"/></a>"
      ]
    },
    {
      "cell_type": "code",
      "execution_count": 22,
      "metadata": {
        "colab": {
          "base_uri": "https://localhost:8080/"
        },
        "id": "sQinJwp6fBhk",
        "outputId": "66c4cc4b-2752-4677-b786-0794cd17b974"
      },
      "outputs": [
        {
          "output_type": "stream",
          "name": "stdout",
          "text": [
            "student name :  hari \n",
            "Rollno :  365 \n",
            "Marks :  100\n"
          ]
        }
      ],
      "source": [
        "class student:\n",
        "  def __init__(self,name,rollno):\n",
        "    self.name= name\n",
        "    self.rollno= rollno\n",
        "  def display(self):\n",
        "    print(\"student name : \",self.name,\"\\nRollno : \",self.rollno,\"\\nMarks : \",self.marks)\n",
        "\n",
        "class leader(student):\n",
        "  def __init__(self,name,rollno,marks):\n",
        "    super().__init__(name,rollno)\n",
        "    self.marks= marks\n",
        "\n",
        "    \n",
        "student1=leader(\"hari\",365,100)\n",
        "student1.display()"
      ]
    }
  ]
}