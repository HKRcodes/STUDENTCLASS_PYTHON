{
  "nbformat": 4,
  "nbformat_minor": 0,
  "metadata": {
    "colab": {
      "name": "Untitled2.ipynb",
      "provenance": [],
      "authorship_tag": "ABX9TyObfvD8wijJmJaDMuOACcts",
      "include_colab_link": true
    },
    "kernelspec": {
      "name": "python3",
      "display_name": "Python 3"
    },
    "language_info": {
      "name": "python"
    }
  },
  "cells": [
    {
      "cell_type": "markdown",
      "metadata": {
        "id": "view-in-github",
        "colab_type": "text"
      },
      "source": [
        "<a href=\"https://colab.research.google.com/github/HKRcodes/STUDENTCLASS_PYTHON/blob/main/STUDENTCLASS.ipynb\" target=\"_parent\"><img src=\"https://colab.research.google.com/assets/colab-badge.svg\" alt=\"Open In Colab\"/></a>"
      ]
    },
    {
      "cell_type": "code",
      "execution_count": 19,
      "metadata": {
        "colab": {
          "base_uri": "https://localhost:8080/"
        },
        "id": "sQinJwp6fBhk",
        "outputId": "8245f47d-0db6-40d2-ef56-10d43aeab88b"
      },
      "outputs": [
        {
          "output_type": "stream",
          "name": "stdout",
          "text": [
            "student name :  hari \n",
            "Rollno :  365\n"
          ]
        }
      ],
      "source": [
        "class student:\n",
        "  def __init__(self,name,rollno):\n",
        "    self.name= name\n",
        "    self.rollno= rollno\n",
        "  def display(self):\n",
        "    print(\"student name : \",self.name,\"\\nRollno : \",self.rollno)\n",
        "\n",
        "student1=student(\"hari\",365)\n",
        "student1.display()"
      ]
    }
  ]
}